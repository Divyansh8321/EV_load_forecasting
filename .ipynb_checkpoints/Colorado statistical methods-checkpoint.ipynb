{
 "cells": [
  {
   "cell_type": "code",
   "execution_count": 1,
   "id": "fb84912f",
   "metadata": {},
   "outputs": [],
   "source": [
    "from sklearn.preprocessing import MinMaxScaler\n",
    "import numpy as np\n",
    "import torch\n",
    "from torch.utils.data import DataLoader, Dataset\n",
    "import pandas as pd"
   ]
  },
  {
   "cell_type": "code",
   "execution_count": 4,
   "id": "a86cd768",
   "metadata": {},
   "outputs": [],
   "source": [
    "charging_per_day = pd.read_csv(\"charging_per_day.csv\")\n",
    "processed_df = charging_per_day.drop(columns=['Timestamp', 'Hour_0'])"
   ]
  },
  {
   "cell_type": "code",
   "execution_count": 5,
   "id": "7c7ad097",
   "metadata": {},
   "outputs": [],
   "source": [
    "features_to_scale = ['Charging_per_day', 'MAX. TEMP(F)', 'MIN. TEMP(F)', 'Precipitation (Inches)', 'Snowfall (Inches)', 'Snow Cover (Inches)']\n",
    "features = processed_df[features_to_scale]\n",
    "scaler = MinMaxScaler()\n",
    "scaled_features = scaler.fit_transform(features)\n",
    "\n",
    "# For boolean or one-hot features, ensure they are converted to integers\n",
    "boolean_and_onehot_features = processed_df.drop(columns=features_to_scale).astype(int).values\n",
    "\n",
    "# Concatenate scaled continuous features and boolean/one-hot features\n",
    "data_normalized = np.concatenate((scaled_features, boolean_and_onehot_features), axis=1)\n",
    "\n",
    "# Ensure the concatenated array is of a uniform numerical type that PyTorch can handle\n",
    "data_normalized = np.array(data_normalized, dtype=np.float32)\n",
    "\n",
    "# Convert to PyTorch tensor\n",
    "data_normalized_tensor = torch.FloatTensor(data_normalized)"
   ]
  },
  {
   "cell_type": "code",
   "execution_count": 8,
   "id": "8253f1b3-745c-4262-908e-973b3e7baf56",
   "metadata": {},
   "outputs": [],
   "source": [
    "# Creating sequences to train on\n",
    "\n",
    "def create_inout_sequences_multivariate(input_data, tw):\n",
    "    inout_seq = []\n",
    "    L = len(input_data)\n",
    "    for i in range(L-tw):\n",
    "        seq = input_data[i:i+tw]\n",
    "        label = input_data[i+tw:i+tw+1, 0]  # Assuming the first column is the target\n",
    "        inout_seq.append((seq, label))\n",
    "    return inout_seq\n",
    "\n",
    "# Window size and batch size\n",
    "window_size = 20\n",
    "batch_size = 32\n",
    "\n",
    "# Create sequences\n",
    "seqs = create_inout_sequences_multivariate(data_normalized_tensor, window_size)\n",
    "\n",
    "# DataLoader\n",
    "class MultivariateTimeSeriesDataset(Dataset):\n",
    "    def __init__(self, sequences):\n",
    "        self.sequences = sequences\n",
    "\n",
    "    def __len__(self):\n",
    "        return len(self.sequences)\n",
    "\n",
    "    def __getitem__(self, index):\n",
    "        sequence, label = self.sequences[index]\n",
    "        return sequence, label\n",
    "\n",
    "dataset = MultivariateTimeSeriesDataset(seqs)\n",
    "dataloader = DataLoader(dataset, batch_size=batch_size, shuffle=True)"
   ]
  },
  {
   "cell_type": "code",
   "execution_count": null,
   "id": "28760764-31ce-43d3-80a0-5d1ef887f976",
   "metadata": {},
   "outputs": [],
   "source": []
  }
 ],
 "metadata": {
  "kernelspec": {
   "display_name": "forecasting_env",
   "language": "python",
   "name": "forecasting_env"
  },
  "language_info": {
   "codemirror_mode": {
    "name": "ipython",
    "version": 3
   },
   "file_extension": ".py",
   "mimetype": "text/x-python",
   "name": "python",
   "nbconvert_exporter": "python",
   "pygments_lexer": "ipython3",
   "version": "3.11.8"
  }
 },
 "nbformat": 4,
 "nbformat_minor": 5
}
