{
 "cells": [
  {
   "cell_type": "code",
   "execution_count": 11,
   "id": "d67fdc43",
   "metadata": {},
   "outputs": [],
   "source": [
    "import pandas as pd\n",
    "import numpy as np\n",
    "import tensorflow as tf\n",
    "from tensorflow.keras.models import Sequential\n",
    "from tensorflow.keras.layers import Dense\n",
    "from tensorflow.keras.layers import Lambda\n",
    "from tensorflow.keras.activations import linear, relu, sigmoid\n",
    "from sklearn.model_selection import train_test_split\n",
    "from tensorflow.keras.utils import normalize\n",
    "from sklearn.metrics import mean_squared_error\n",
    "import matplotlib.pyplot as plt\n",
    "import numpy as np\n",
    "import keras\n",
    "import numpy as np\n",
    "from sklearn.preprocessing import MinMaxScaler\n",
    "from tensorflow.keras.layers import Bidirectional\n",
    "from tensorflow.keras.models import save_model\n",
    "from tensorflow.keras.models import model_from_json\n",
    "from tensorflow.keras.layers import LSTM\n",
    "from tensorflow.keras.layers import Dropout\n",
    "from tensorflow.keras.callbacks import EarlyStopping\n",
    "from tensorflow.keras.callbacks import Callback\n",
    "from tensorflow.keras.optimizers import Adam\n",
    "from keras_tuner.tuners import RandomSearch\n",
    "from keras_tuner.engine.hyperparameters import HyperParameters\n",
    "from pickle import dump,load\n",
    "import warnings\n",
    "import joblib\n",
    "from keras_tuner import Objective\n",
    "\n",
    "warnings.simplefilter(\"ignore\", UserWarning)"
   ]
  },
  {
   "cell_type": "code",
   "execution_count": 12,
   "id": "8c567948",
   "metadata": {},
   "outputs": [],
   "source": [
    "np.random.seed(5)"
   ]
  },
  {
   "cell_type": "code",
   "execution_count": 13,
   "id": "7850413c",
   "metadata": {},
   "outputs": [],
   "source": [
    "df = pd.read_csv(\"./datasets/DCFC_load.csv\")\n",
    "load_df = df.drop((['Unnamed: 2','Unnamed: 3','Unnamed: 4','Unnamed: 5','Unnamed: 6','Unnamed: 7']),axis=1)\n",
    "time = pd.to_datetime(load_df['Time'], format='%d/%m/%y %H:%M')\n",
    "\n",
    "time_train = time[:23328]\n",
    "x_train = load_df[\"PowerkW2\"][:23328]\n",
    "\n",
    "time_cv = time[23328:]\n",
    "x_cv = load_df[\"PowerkW2\"][23328:]"
   ]
  },
  {
   "cell_type": "code",
   "execution_count": 14,
   "id": "8c623719",
   "metadata": {
    "scrolled": true
   },
   "outputs": [
    {
     "data": {
      "text/html": [
       "<div>\n",
       "<style scoped>\n",
       "    .dataframe tbody tr th:only-of-type {\n",
       "        vertical-align: middle;\n",
       "    }\n",
       "\n",
       "    .dataframe tbody tr th {\n",
       "        vertical-align: top;\n",
       "    }\n",
       "\n",
       "    .dataframe thead th {\n",
       "        text-align: right;\n",
       "    }\n",
       "</style>\n",
       "<table border=\"1\" class=\"dataframe\">\n",
       "  <thead>\n",
       "    <tr style=\"text-align: right;\">\n",
       "      <th></th>\n",
       "      <th>Time</th>\n",
       "      <th>PowerkW2</th>\n",
       "    </tr>\n",
       "  </thead>\n",
       "  <tbody>\n",
       "    <tr>\n",
       "      <th>0</th>\n",
       "      <td>01/01/22 0:00</td>\n",
       "      <td>23.146460</td>\n",
       "    </tr>\n",
       "    <tr>\n",
       "      <th>1</th>\n",
       "      <td>01/01/22 0:15</td>\n",
       "      <td>17.971620</td>\n",
       "    </tr>\n",
       "    <tr>\n",
       "      <th>2</th>\n",
       "      <td>01/01/22 0:30</td>\n",
       "      <td>6.735884</td>\n",
       "    </tr>\n",
       "    <tr>\n",
       "      <th>3</th>\n",
       "      <td>01/01/22 0:45</td>\n",
       "      <td>0.000000</td>\n",
       "    </tr>\n",
       "    <tr>\n",
       "      <th>4</th>\n",
       "      <td>01/01/22 1:00</td>\n",
       "      <td>0.000000</td>\n",
       "    </tr>\n",
       "    <tr>\n",
       "      <th>...</th>\n",
       "      <td>...</td>\n",
       "      <td>...</td>\n",
       "    </tr>\n",
       "    <tr>\n",
       "      <th>35035</th>\n",
       "      <td>31/12/22 22:42</td>\n",
       "      <td>15.200730</td>\n",
       "    </tr>\n",
       "    <tr>\n",
       "      <th>35036</th>\n",
       "      <td>31/12/22 22:57</td>\n",
       "      <td>0.000000</td>\n",
       "    </tr>\n",
       "    <tr>\n",
       "      <th>35037</th>\n",
       "      <td>31/12/22 23:12</td>\n",
       "      <td>0.000000</td>\n",
       "    </tr>\n",
       "    <tr>\n",
       "      <th>35038</th>\n",
       "      <td>31/12/22 23:27</td>\n",
       "      <td>0.000000</td>\n",
       "    </tr>\n",
       "    <tr>\n",
       "      <th>35039</th>\n",
       "      <td>31/12/22 23:42</td>\n",
       "      <td>0.000000</td>\n",
       "    </tr>\n",
       "  </tbody>\n",
       "</table>\n",
       "<p>35040 rows × 2 columns</p>\n",
       "</div>"
      ],
      "text/plain": [
       "                 Time   PowerkW2\n",
       "0       01/01/22 0:00  23.146460\n",
       "1       01/01/22 0:15  17.971620\n",
       "2       01/01/22 0:30   6.735884\n",
       "3       01/01/22 0:45   0.000000\n",
       "4       01/01/22 1:00   0.000000\n",
       "...               ...        ...\n",
       "35035  31/12/22 22:42  15.200730\n",
       "35036  31/12/22 22:57   0.000000\n",
       "35037  31/12/22 23:12   0.000000\n",
       "35038  31/12/22 23:27   0.000000\n",
       "35039  31/12/22 23:42   0.000000\n",
       "\n",
       "[35040 rows x 2 columns]"
      ]
     },
     "execution_count": 14,
     "metadata": {},
     "output_type": "execute_result"
    }
   ],
   "source": [
    "load_df"
   ]
  },
  {
   "cell_type": "code",
   "execution_count": 15,
   "id": "e38c2e10",
   "metadata": {},
   "outputs": [],
   "source": [
    "# We had not scaled the data before and we will do it now for better results and try and see how does it make\n",
    "# things better \n",
    "\n",
    "scaler = MinMaxScaler()"
   ]
  },
  {
   "cell_type": "code",
   "execution_count": 16,
   "id": "9cd91ed9",
   "metadata": {},
   "outputs": [],
   "source": [
    "x_train_reshaped = x_train.values.reshape(-1,1)"
   ]
  },
  {
   "cell_type": "code",
   "execution_count": 17,
   "id": "af557cec",
   "metadata": {},
   "outputs": [],
   "source": [
    "# Save the scaler and its parameters\n",
    "joblib.dump(scaler, 'scaler_model.joblib')\n",
    "\n",
    "# Load the scaler for later use\n",
    "loaded_scaler = joblib.load('scaler_model.joblib')"
   ]
  },
  {
   "cell_type": "code",
   "execution_count": 18,
   "id": "07047a5c",
   "metadata": {},
   "outputs": [],
   "source": [
    "x_cv_reshaped = x_cv.values.reshape(-1,1)"
   ]
  },
  {
   "cell_type": "code",
   "execution_count": 19,
   "id": "3a5d05bd",
   "metadata": {},
   "outputs": [],
   "source": [
    "def model_forecast(model, series, window_size, batch_size):\n",
    "    \"\"\"Uses an input model to generate predictions on data windows\n",
    "\n",
    "    Args:\n",
    "      model (TF Keras Model) - model that accepts data windows\n",
    "      series (array of float) - contains the values of the time series\n",
    "      window_size (int) - the number of time steps to include in the window\n",
    "      batch_size (int) - the batch size\n",
    "\n",
    "    Returns:\n",
    "      forecast (numpy array) - array containing predictions\n",
    "    \"\"\"\n",
    "\n",
    "    # Generate a TF Dataset from the series values\n",
    "    dataset = tf.data.Dataset.from_tensor_slices(series)\n",
    "\n",
    "    # Window the data but only take those with the specified size\n",
    "    dataset = dataset.window(window_size, shift=1, drop_remainder=True)\n",
    "\n",
    "    # Flatten the windows by putting its elements in a single batch\n",
    "    dataset = dataset.flat_map(lambda w: w.batch(window_size))\n",
    "    \n",
    "    # Create batches of windows\n",
    "    dataset = dataset.batch(batch_size).prefetch(1)\n",
    "    \n",
    "    # Get predictions on the entire dataset\n",
    "    forecast = model.predict(dataset)\n",
    "    \n",
    "    return forecast"
   ]
  },
  {
   "cell_type": "code",
   "execution_count": 20,
   "id": "aac81e62",
   "metadata": {},
   "outputs": [],
   "source": [
    "# Creating the dataset\n",
    "# Parameters\n",
    "\n",
    "window_size = 20\n",
    "batch_size = 32\n",
    "shuffle_buffer_size = 1000\n",
    "\n",
    "def windowed_dataset(series, window_size, batch_size, shuffle_buffer):\n",
    "    \"\"\"Generates dataset windows\n",
    "\n",
    "    Args:\n",
    "      series (array of float) - contains the values of the time series\n",
    "      window_size (int) - the number of time steps to include in the feature\n",
    "      batch_size (int) - the batch size\n",
    "      shuffle_buffer(int) - buffer size to use for the shuffle method\n",
    "\n",
    "    Returns:\n",
    "      dataset (TF Dataset) - TF Dataset containing time windows\n",
    "    \"\"\"\n",
    "  \n",
    "    # Generate a TF Dataset from the series values\n",
    "    dataset = tf.data.Dataset.from_tensor_slices(series)\n",
    "    \n",
    "    # Window the data but only take those with the specified size\n",
    "    dataset = dataset.window(window_size + 1, shift=1, drop_remainder=True)\n",
    "    \n",
    "    # Flatten the windows by putting its elements in a single batch\n",
    "    dataset = dataset.flat_map(lambda window: window.batch(window_size + 1))\n",
    "\n",
    "    # Create tuples with features and labels \n",
    "    dataset = dataset.map(lambda window: (window[:-1], window[-1]))\n",
    "\n",
    "    # Shuffle the windows\n",
    "    dataset = dataset.shuffle(shuffle_buffer)\n",
    "    \n",
    "    # Create batches of windows\n",
    "    dataset = dataset.batch(batch_size).prefetch(1)\n",
    "    \n",
    "    return dataset"
   ]
  },
  {
   "cell_type": "code",
   "execution_count": 21,
   "id": "47c1b1c3",
   "metadata": {},
   "outputs": [],
   "source": [
    "# Generate the dataset windows\n",
    "dataset = windowed_dataset(x_train_reshaped, window_size, batch_size, shuffle_buffer_size)\n",
    "\n",
    "validation_dataset = windowed_dataset(x_cv_reshaped, window_size, batch_size, shuffle_buffer_size)"
   ]
  },
  {
   "cell_type": "code",
   "execution_count": 15,
   "id": "74296c5e",
   "metadata": {},
   "outputs": [],
   "source": [
    "def build_model(hp):\n",
    "    model = Sequential()\n",
    "    model.add(Lambda(lambda x: tf.expand_dims(x, axis=-1),input_shape=[window_size]))\n",
    "    model.add(Bidirectional(LSTM(hp.Int('LSTM_1',min_value=32,max_value=320,step=32),return_sequences = True)))\n",
    "    model.add(Bidirectional(LSTM(hp.Int('LSTM_2',min_value=32,max_value=320,step=32),return_sequences = True)))\n",
    "    model.add(Bidirectional(LSTM(hp.Int('LSTM_3',min_value=32,max_value=320,step=32))))\n",
    "    model.add(Dropout(hp.Float('Dropout_rate',min_value=0.1,max_value=0.5,step=0.1)))\n",
    "    model.add(Dense(1, activation=hp.Choice('dense_activation',values=['relu', 'sigmoid'],default='relu')))\n",
    "    model.add(Lambda(lambda x: x * 100.0))\n",
    "    # Create an instance of the Adam optimizer with a variable learning rate\n",
    "    optimizer = Adam(learning_rate=hp.Float('learning_rate', min_value=1e-5, max_value=1e-3, sampling='log'))\n",
    "    model.compile(loss='mean_squared_error', optimizer= optimizer ,metrics = ['mse' , 'mae'])\n",
    "    return model\n",
    "\n",
    "# Early stopping callback\n",
    "early_stopping = EarlyStopping(monitor='val_loss', patience=3, restore_best_weights=True)"
   ]
  },
  {
   "cell_type": "code",
   "execution_count": 18,
   "id": "f0adc482",
   "metadata": {},
   "outputs": [
    {
     "name": "stdout",
     "output_type": "stream",
     "text": [
      "Reloading Tuner from tuning_directory_mse_3layer/my_lstm_tuning/tuner0.json\n"
     ]
    }
   ],
   "source": [
    "tuner= RandomSearch(\n",
    "        build_model,\n",
    "        objective='mse',\n",
    "        max_trials=50,\n",
    "        executions_per_trial=1,\n",
    "        directory='tuning_directory_mse_3layer',  # Specify a directory for storing tuning results\n",
    "        project_name='my_lstm_tuning'\n",
    "        )"
   ]
  },
  {
   "cell_type": "code",
   "execution_count": 19,
   "id": "1f2f9a1c",
   "metadata": {},
   "outputs": [],
   "source": [
    "tuner.search(\n",
    "        x=dataset,\n",
    "        epochs=20,\n",
    "        validation_data=validation_dataset,\n",
    "        callbacks = [early_stopping]\n",
    ")"
   ]
  },
  {
   "cell_type": "code",
   "execution_count": 20,
   "id": "7eb51e43",
   "metadata": {},
   "outputs": [
    {
     "data": {
      "text/plain": [
       "{'LSTM_1': 128,\n",
       " 'LSTM_2': 192,\n",
       " 'LSTM_3': 288,\n",
       " 'Dropout_rate': 0.30000000000000004,\n",
       " 'dense_activation': 'sigmoid',\n",
       " 'learning_rate': 0.0007748510631571134}"
      ]
     },
     "execution_count": 20,
     "metadata": {},
     "output_type": "execute_result"
    }
   ],
   "source": [
    "tuner.oracle.get_best_trials(1)[0].hyperparameters.values"
   ]
  },
  {
   "cell_type": "code",
   "execution_count": 21,
   "id": "b18a227b",
   "metadata": {},
   "outputs": [
    {
     "data": {
      "text/plain": [
       "'16'"
      ]
     },
     "execution_count": 21,
     "metadata": {},
     "output_type": "execute_result"
    }
   ],
   "source": [
    "tuner.oracle.get_best_trials(1)[0].trial_id"
   ]
  },
  {
   "cell_type": "code",
   "execution_count": 22,
   "id": "ab155297",
   "metadata": {},
   "outputs": [
    {
     "name": "stderr",
     "output_type": "stream",
     "text": [
      "WARNING:absl:At this time, the v2.11+ optimizer `tf.keras.optimizers.Adam` runs slowly on M1/M2 Macs, please use the legacy Keras optimizer instead, located at `tf.keras.optimizers.legacy.Adam`.\n"
     ]
    }
   ],
   "source": [
    "best_model = tuner.get_best_models(num_models=1)[0]\n"
   ]
  },
  {
   "cell_type": "code",
   "execution_count": 23,
   "id": "ed6af656",
   "metadata": {},
   "outputs": [
    {
     "name": "stdout",
     "output_type": "stream",
     "text": [
      "Model: \"sequential\"\n",
      "_________________________________________________________________\n",
      " Layer (type)                Output Shape              Param #   \n",
      "=================================================================\n",
      " lambda (Lambda)             (None, 20, 1)             0         \n",
      "                                                                 \n",
      " bidirectional (Bidirection  (None, 20, 256)           133120    \n",
      " al)                                                             \n",
      "                                                                 \n",
      " bidirectional_1 (Bidirecti  (None, 20, 384)           689664    \n",
      " onal)                                                           \n",
      "                                                                 \n",
      " bidirectional_2 (Bidirecti  (None, 576)               1550592   \n",
      " onal)                                                           \n",
      "                                                                 \n",
      " dropout (Dropout)           (None, 576)               0         \n",
      "                                                                 \n",
      " dense (Dense)               (None, 1)                 577       \n",
      "                                                                 \n",
      " lambda_1 (Lambda)           (None, 1)                 0         \n",
      "                                                                 \n",
      "=================================================================\n",
      "Total params: 2373953 (9.06 MB)\n",
      "Trainable params: 2373953 (9.06 MB)\n",
      "Non-trainable params: 0 (0.00 Byte)\n",
      "_________________________________________________________________\n"
     ]
    }
   ],
   "source": [
    "best_model.summary()"
   ]
  },
  {
   "cell_type": "code",
   "execution_count": 29,
   "id": "3ea8c121",
   "metadata": {
    "scrolled": true
   },
   "outputs": [
    {
     "name": "stdout",
     "output_type": "stream",
     "text": [
      "Results summary\n",
      "Results in tuning_directory_mse_3layer/my_lstm_tuning\n",
      "Showing 10 best trials\n",
      "Objective(name=\"mse\", direction=\"min\")\n",
      "\n",
      "Trial 16 summary\n",
      "Hyperparameters:\n",
      "LSTM_1: 128\n",
      "LSTM_2: 192\n",
      "LSTM_3: 288\n",
      "Dropout_rate: 0.30000000000000004\n",
      "dense_activation: sigmoid\n",
      "learning_rate: 0.0007748510631571134\n",
      "Score: 66.15218353271484\n",
      "\n",
      "Trial 25 summary\n",
      "Hyperparameters:\n",
      "LSTM_1: 224\n",
      "LSTM_2: 320\n",
      "LSTM_3: 160\n",
      "Dropout_rate: 0.2\n",
      "dense_activation: sigmoid\n",
      "learning_rate: 0.0004028122259221392\n",
      "Score: 66.16852569580078\n",
      "\n",
      "Trial 48 summary\n",
      "Hyperparameters:\n",
      "LSTM_1: 96\n",
      "LSTM_2: 256\n",
      "LSTM_3: 224\n",
      "Dropout_rate: 0.1\n",
      "dense_activation: sigmoid\n",
      "learning_rate: 0.0003008851184974976\n",
      "Score: 66.17681121826172\n",
      "\n",
      "Trial 26 summary\n",
      "Hyperparameters:\n",
      "LSTM_1: 32\n",
      "LSTM_2: 32\n",
      "LSTM_3: 224\n",
      "Dropout_rate: 0.30000000000000004\n",
      "dense_activation: relu\n",
      "learning_rate: 0.0006337471468379436\n",
      "Score: 66.28330993652344\n",
      "\n",
      "Trial 41 summary\n",
      "Hyperparameters:\n",
      "LSTM_1: 224\n",
      "LSTM_2: 32\n",
      "LSTM_3: 288\n",
      "Dropout_rate: 0.30000000000000004\n",
      "dense_activation: sigmoid\n",
      "learning_rate: 0.0001266375501481224\n",
      "Score: 66.5393295288086\n",
      "\n",
      "Trial 46 summary\n",
      "Hyperparameters:\n",
      "LSTM_1: 288\n",
      "LSTM_2: 32\n",
      "LSTM_3: 256\n",
      "Dropout_rate: 0.2\n",
      "dense_activation: sigmoid\n",
      "learning_rate: 0.0008360529583712899\n",
      "Score: 66.57415771484375\n",
      "\n",
      "Trial 40 summary\n",
      "Hyperparameters:\n",
      "LSTM_1: 320\n",
      "LSTM_2: 128\n",
      "LSTM_3: 256\n",
      "Dropout_rate: 0.4\n",
      "dense_activation: sigmoid\n",
      "learning_rate: 0.00010988954047943938\n",
      "Score: 66.74435424804688\n",
      "\n",
      "Trial 21 summary\n",
      "Hyperparameters:\n",
      "LSTM_1: 96\n",
      "LSTM_2: 288\n",
      "LSTM_3: 128\n",
      "Dropout_rate: 0.4\n",
      "dense_activation: sigmoid\n",
      "learning_rate: 0.0006164658321680675\n",
      "Score: 66.94613647460938\n",
      "\n",
      "Trial 14 summary\n",
      "Hyperparameters:\n",
      "LSTM_1: 160\n",
      "LSTM_2: 96\n",
      "LSTM_3: 192\n",
      "Dropout_rate: 0.30000000000000004\n",
      "dense_activation: sigmoid\n",
      "learning_rate: 0.00014095176285458896\n",
      "Score: 67.21106719970703\n",
      "\n",
      "Trial 13 summary\n",
      "Hyperparameters:\n",
      "LSTM_1: 192\n",
      "LSTM_2: 256\n",
      "LSTM_3: 64\n",
      "Dropout_rate: 0.1\n",
      "dense_activation: sigmoid\n",
      "learning_rate: 0.000164408613467499\n",
      "Score: 67.25006103515625\n"
     ]
    }
   ],
   "source": [
    "tuner.results_summary()"
   ]
  },
  {
   "cell_type": "code",
   "execution_count": 25,
   "id": "c2cb37b2",
   "metadata": {},
   "outputs": [
    {
     "name": "stdout",
     "output_type": "stream",
     "text": [
      "366/366 [==============================] - 18s 48ms/step\n"
     ]
    }
   ],
   "source": [
    "# Reduce the original series\n",
    "forecast_series_LSTM = x_cv_reshaped\n",
    "\n",
    "# Use helper function to generate predictions\n",
    "forecast_LSTM = model_forecast(best_model, forecast_series_LSTM, window_size, batch_size)\n",
    "\n",
    "# Drop single dimensional axis\n",
    "results_LSTM = forecast_LSTM.squeeze()"
   ]
  },
  {
   "cell_type": "code",
   "execution_count": 26,
   "id": "8d048289",
   "metadata": {
    "scrolled": true
   },
   "outputs": [
    {
     "name": "stdout",
     "output_type": "stream",
     "text": [
      "MSE in original scale: 60.415966451979436\n",
      "MAE in original scale: 5.2217431684725\n"
     ]
    }
   ],
   "source": [
    "mse = tf.keras.metrics.mean_squared_error(results_LSTM, x_cv_reshaped[19:].squeeze()).numpy()\n",
    "mae = tf.keras.metrics.mean_absolute_error(results_LSTM, x_cv_reshaped[19:].squeeze()).numpy()\n",
    "\n",
    "print(\"MSE in original scale:\", mse)\n",
    "print(\"MAE in original scale:\", mae)\n"
   ]
  },
  {
   "cell_type": "code",
   "execution_count": 33,
   "id": "8cd104a7",
   "metadata": {},
   "outputs": [
    {
     "name": "stderr",
     "output_type": "stream",
     "text": [
      "WARNING:absl:At this time, the v2.11+ optimizer `tf.keras.optimizers.Adam` runs slowly on M1/M2 Macs, please use the legacy Keras optimizer instead, located at `tf.keras.optimizers.legacy.Adam`.\n"
     ]
    },
    {
     "name": "stdout",
     "output_type": "stream",
     "text": [
      "Model: \"verification_model\"\n",
      "_________________________________________________________________\n",
      " Layer (type)                Output Shape              Param #   \n",
      "=================================================================\n",
      " lambda_6 (Lambda)           (None, 20, 1)             0         \n",
      "                                                                 \n",
      " bidirectional_9 (Bidirecti  (None, 20, 256)           133120    \n",
      " onal)                                                           \n",
      "                                                                 \n",
      " bidirectional_10 (Bidirect  (None, 20, 384)           689664    \n",
      " ional)                                                          \n",
      "                                                                 \n",
      " bidirectional_11 (Bidirect  (None, 576)               1550592   \n",
      " ional)                                                          \n",
      "                                                                 \n",
      " dropout_3 (Dropout)         (None, 576)               0         \n",
      "                                                                 \n",
      " dense_3 (Dense)             (None, 1)                 577       \n",
      "                                                                 \n",
      " lambda_7 (Lambda)           (None, 1)                 0         \n",
      "                                                                 \n",
      "=================================================================\n",
      "Total params: 2373953 (9.06 MB)\n",
      "Trainable params: 2373953 (9.06 MB)\n",
      "Non-trainable params: 0 (0.00 Byte)\n",
      "_________________________________________________________________\n"
     ]
    }
   ],
   "source": [
    "# Verifying if training the built model to the best epoch gives the same result so that the heavy files can \n",
    "# be deleted and this notebook pushed to GitHub\n",
    "\n",
    "import tensorflow as tf\n",
    "from tensorflow.keras.models import Sequential\n",
    "from tensorflow.keras.layers import Bidirectional, LSTM, Dropout, Dense, Lambda\n",
    "\n",
    "# Create the model\n",
    "verification_model = Sequential(name=\"verification_model\")\n",
    "verification_model.add(Lambda(lambda x: tf.expand_dims(x, axis=-1),input_shape=[window_size]))\n",
    "verification_model.add(Bidirectional(LSTM(128, return_sequences=True)))\n",
    "verification_model.add(Bidirectional(LSTM(192, return_sequences=True)))\n",
    "verification_model.add(Bidirectional(LSTM(288)))\n",
    "verification_model.add(Dropout(0.30000000000000004))\n",
    "verification_model.add(Dense(1))\n",
    "verification_model.add(Lambda(lambda x: x * 100.0))  # Assuming you want to reduce to (None, 1)\n",
    "optimizer = Adam(learning_rate= 0.0007748510631571134)\n",
    "# Compile the model\n",
    "verification_model.compile(optimizer='adam', loss='mean_squared_error')\n",
    "\n",
    "# Print the model summary\n",
    "verification_model.summary()\n",
    "\n"
   ]
  },
  {
   "cell_type": "code",
   "execution_count": 34,
   "id": "c85978f3",
   "metadata": {},
   "outputs": [
    {
     "name": "stdout",
     "output_type": "stream",
     "text": [
      "Epoch 1/12\n",
      "729/729 [==============================] - 108s 143ms/step - loss: 119.6834\n",
      "Epoch 2/12\n",
      "729/729 [==============================] - 100s 137ms/step - loss: 75.3776\n",
      "Epoch 3/12\n",
      "729/729 [==============================] - 99s 136ms/step - loss: 72.4089\n",
      "Epoch 4/12\n",
      "729/729 [==============================] - 115s 157ms/step - loss: 71.2511\n",
      "Epoch 5/12\n",
      "729/729 [==============================] - 112s 154ms/step - loss: 69.7625\n",
      "Epoch 6/12\n",
      "729/729 [==============================] - 113s 154ms/step - loss: 69.2889\n",
      "Epoch 7/12\n",
      "729/729 [==============================] - 113s 155ms/step - loss: 68.4577\n",
      "Epoch 8/12\n",
      "729/729 [==============================] - 112s 154ms/step - loss: 68.1868\n",
      "Epoch 9/12\n",
      "729/729 [==============================] - 115s 158ms/step - loss: 67.8002\n",
      "Epoch 10/12\n",
      "729/729 [==============================] - 110s 151ms/step - loss: 67.4942\n",
      "Epoch 11/12\n",
      "729/729 [==============================] - 113s 155ms/step - loss: 67.4975\n",
      "Epoch 12/12\n",
      "729/729 [==============================] - 110s 151ms/step - loss: 67.1420\n"
     ]
    },
    {
     "data": {
      "text/plain": [
       "<keras.src.callbacks.History at 0x28e124d90>"
      ]
     },
     "execution_count": 34,
     "metadata": {},
     "output_type": "execute_result"
    }
   ],
   "source": [
    "verification_model.fit(x=dataset , epochs = 12)"
   ]
  },
  {
   "cell_type": "code",
   "execution_count": 39,
   "id": "649cd6cd",
   "metadata": {},
   "outputs": [
    {
     "name": "stdout",
     "output_type": "stream",
     "text": [
      "366/366 [==============================] - 15s 41ms/step\n"
     ]
    }
   ],
   "source": [
    "# Reduce the original series\n",
    "forecast_series_LSTM = x_cv_reshaped\n",
    "\n",
    "# Use helper function to generate predictions\n",
    "forecast_LSTM = model_forecast(verification_model, forecast_series_LSTM, window_size, batch_size)\n",
    "\n",
    "# Drop single dimensional axis\n",
    "verification_results_LSTM = forecast_LSTM.squeeze()"
   ]
  },
  {
   "cell_type": "code",
   "execution_count": 40,
   "id": "b6bfa06c",
   "metadata": {},
   "outputs": [
    {
     "name": "stdout",
     "output_type": "stream",
     "text": [
      "MSE in original scale: 50.565474669066404\n",
      "MAE in original scale: 5.198935348462049\n"
     ]
    }
   ],
   "source": [
    "mse = tf.keras.metrics.mean_squared_error(verification_results_LSTM, x_cv_reshaped[19:].squeeze()).numpy()\n",
    "mae = tf.keras.metrics.mean_absolute_error(verification_results_LSTM, x_cv_reshaped[19:].squeeze()).numpy()\n",
    "\n",
    "print(\"MSE in original scale:\", mse)\n",
    "print(\"MAE in original scale:\", mae)"
   ]
  },
  {
   "cell_type": "code",
   "execution_count": 11,
   "id": "cce513e3",
   "metadata": {},
   "outputs": [],
   "source": [
    "# So technically it provides the best step and that gives an even better result."
   ]
  },
  {
   "cell_type": "code",
   "execution_count": 12,
   "id": "d09d67ee",
   "metadata": {},
   "outputs": [],
   "source": [
    "def build_model_2layer(hp):\n",
    "    model = Sequential()\n",
    "    model.add(Lambda(lambda x: tf.expand_dims(x, axis=-1),input_shape=[window_size]))\n",
    "    model.add(Bidirectional(LSTM(hp.Int('LSTM_1',min_value=32,max_value=320,step=32),return_sequences = True)))\n",
    "    model.add(Bidirectional(LSTM(hp.Int('LSTM_3',min_value=32,max_value=320,step=32))))\n",
    "    model.add(Dropout(hp.Float('Dropout_rate',min_value=0.1,max_value=0.5,step=0.1)))\n",
    "    model.add(Dense(1, activation=hp.Choice('dense_activation',values=['relu', 'sigmoid'],default='relu')))\n",
    "    model.add(Lambda(lambda x: x * 100.0))\n",
    "    # Create an instance of the Adam optimizer with a variable learning rate\n",
    "    optimizer = Adam(learning_rate=hp.Float('learning_rate', min_value=1e-5, max_value=1e-3, sampling='log'))\n",
    "    model.compile(loss='mean_squared_error', optimizer= optimizer ,metrics = ['mse' , 'mae'])\n",
    "    return model\n",
    "\n",
    "# Early stopping callback\n",
    "early_stopping = EarlyStopping(monitor='val_loss', patience=3, restore_best_weights=True)    "
   ]
  },
  {
   "cell_type": "code",
   "execution_count": null,
   "id": "cb7114c3",
   "metadata": {},
   "outputs": [],
   "source": [
    "tuner= RandomSearch(\n",
    "        build_model_2layer,\n",
    "        objective='val_mape',\n",
    "        max_trials=25,\n",
    "        executions_per_trial=1,\n",
    "        directory='tuning_directory_mse_2layer',  # Specify a directory for storing tuning results\n",
    "        project_name='my_lstm_tuning_2layer_mse',\n",
    "        )"
   ]
  },
  {
   "cell_type": "code",
   "execution_count": 22,
   "id": "db07c186",
   "metadata": {},
   "outputs": [],
   "source": [
    "# tuner.search(\n",
    "#         x=dataset,\n",
    "#         epochs=20,\n",
    "#         validation_data=validation_dataset,\n",
    "#         callbacks = [early_stopping]\n",
    "# )"
   ]
  },
  {
   "cell_type": "code",
   "execution_count": 35,
   "id": "6585702f",
   "metadata": {},
   "outputs": [
    {
     "data": {
      "text/plain": [
       "{'LSTM_1': 320,\n",
       " 'LSTM_3': 160,\n",
       " 'Dropout_rate': 0.1,\n",
       " 'dense_activation': 'sigmoid',\n",
       " 'learning_rate': 0.00014496450085031546}"
      ]
     },
     "execution_count": 35,
     "metadata": {},
     "output_type": "execute_result"
    }
   ],
   "source": [
    "tuner.oracle.get_best_trials(1)[0].hyperparameters.values"
   ]
  },
  {
   "cell_type": "code",
   "execution_count": 36,
   "id": "1452a6eb",
   "metadata": {},
   "outputs": [
    {
     "data": {
      "text/plain": [
       "'00'"
      ]
     },
     "execution_count": 36,
     "metadata": {},
     "output_type": "execute_result"
    }
   ],
   "source": [
    "tuner.oracle.get_best_trials(1)[0].trial_id"
   ]
  },
  {
   "cell_type": "code",
   "execution_count": 37,
   "id": "bf3e387c",
   "metadata": {
    "scrolled": true
   },
   "outputs": [
    {
     "name": "stdout",
     "output_type": "stream",
     "text": [
      "Results summary\n",
      "Results in tuning_directory_mse_2layer/my_lstm_tuning_2layer_mse\n",
      "Showing 10 best trials\n",
      "Objective(name=\"val_mse\", direction=\"min\")\n",
      "\n",
      "Trial 00 summary\n",
      "Hyperparameters:\n",
      "LSTM_1: 320\n",
      "LSTM_3: 160\n",
      "Dropout_rate: 0.1\n",
      "dense_activation: sigmoid\n",
      "learning_rate: 0.00014496450085031546\n",
      "Score: 86.87268829345703\n",
      "\n",
      "Trial 12 summary\n",
      "Hyperparameters:\n",
      "LSTM_1: 320\n",
      "LSTM_3: 192\n",
      "Dropout_rate: 0.30000000000000004\n",
      "dense_activation: sigmoid\n",
      "learning_rate: 0.0002869314776481352\n",
      "Score: 86.99288177490234\n",
      "\n",
      "Trial 19 summary\n",
      "Hyperparameters:\n",
      "LSTM_1: 160\n",
      "LSTM_3: 192\n",
      "Dropout_rate: 0.5\n",
      "dense_activation: sigmoid\n",
      "learning_rate: 0.0006709934026096912\n",
      "Score: 87.05364990234375\n",
      "\n",
      "Trial 13 summary\n",
      "Hyperparameters:\n",
      "LSTM_1: 320\n",
      "LSTM_3: 256\n",
      "Dropout_rate: 0.2\n",
      "dense_activation: sigmoid\n",
      "learning_rate: 0.0005185908177918626\n",
      "Score: 87.12567901611328\n",
      "\n",
      "Trial 18 summary\n",
      "Hyperparameters:\n",
      "LSTM_1: 224\n",
      "LSTM_3: 192\n",
      "Dropout_rate: 0.2\n",
      "dense_activation: sigmoid\n",
      "learning_rate: 0.0009719857082698608\n",
      "Score: 87.30912780761719\n",
      "\n",
      "Trial 06 summary\n",
      "Hyperparameters:\n",
      "LSTM_1: 192\n",
      "LSTM_3: 64\n",
      "Dropout_rate: 0.2\n",
      "dense_activation: sigmoid\n",
      "learning_rate: 0.0001341497621086433\n",
      "Score: 87.39094543457031\n",
      "\n",
      "Trial 16 summary\n",
      "Hyperparameters:\n",
      "LSTM_1: 320\n",
      "LSTM_3: 224\n",
      "Dropout_rate: 0.2\n",
      "dense_activation: sigmoid\n",
      "learning_rate: 0.00011089404108766621\n",
      "Score: 87.74888610839844\n",
      "\n",
      "Trial 10 summary\n",
      "Hyperparameters:\n",
      "LSTM_1: 192\n",
      "LSTM_3: 32\n",
      "Dropout_rate: 0.2\n",
      "dense_activation: relu\n",
      "learning_rate: 7.671867010789075e-05\n",
      "Score: 88.15489959716797\n",
      "\n",
      "Trial 11 summary\n",
      "Hyperparameters:\n",
      "LSTM_1: 160\n",
      "LSTM_3: 64\n",
      "Dropout_rate: 0.2\n",
      "dense_activation: sigmoid\n",
      "learning_rate: 3.4246462614677994e-05\n",
      "Score: 88.99066925048828\n",
      "\n",
      "Trial 15 summary\n",
      "Hyperparameters:\n",
      "LSTM_1: 128\n",
      "LSTM_3: 320\n",
      "Dropout_rate: 0.1\n",
      "dense_activation: sigmoid\n",
      "learning_rate: 3.390254217923749e-05\n",
      "Score: 89.13740539550781\n"
     ]
    }
   ],
   "source": [
    "tuner.results_summary()"
   ]
  },
  {
   "cell_type": "code",
   "execution_count": 38,
   "id": "5fcf5e92",
   "metadata": {},
   "outputs": [
    {
     "name": "stderr",
     "output_type": "stream",
     "text": [
      "WARNING:absl:At this time, the v2.11+ optimizer `tf.keras.optimizers.Adam` runs slowly on M1/M2 Macs, please use the legacy Keras optimizer instead, located at `tf.keras.optimizers.legacy.Adam`.\n"
     ]
    }
   ],
   "source": [
    "best_model_mse_2 = tuner.get_best_models(num_models=1)[0]"
   ]
  },
  {
   "cell_type": "code",
   "execution_count": 39,
   "id": "a168f63c",
   "metadata": {},
   "outputs": [
    {
     "name": "stdout",
     "output_type": "stream",
     "text": [
      "Model: \"sequential\"\n",
      "_________________________________________________________________\n",
      " Layer (type)                Output Shape              Param #   \n",
      "=================================================================\n",
      " lambda (Lambda)             (None, 20, 1)             0         \n",
      "                                                                 \n",
      " bidirectional (Bidirection  (None, 20, 640)           824320    \n",
      " al)                                                             \n",
      "                                                                 \n",
      " bidirectional_1 (Bidirecti  (None, 320)               1025280   \n",
      " onal)                                                           \n",
      "                                                                 \n",
      " dropout (Dropout)           (None, 320)               0         \n",
      "                                                                 \n",
      " dense (Dense)               (None, 1)                 321       \n",
      "                                                                 \n",
      " lambda_1 (Lambda)           (None, 1)                 0         \n",
      "                                                                 \n",
      "=================================================================\n",
      "Total params: 1849921 (7.06 MB)\n",
      "Trainable params: 1849921 (7.06 MB)\n",
      "Non-trainable params: 0 (0.00 Byte)\n",
      "_________________________________________________________________\n"
     ]
    }
   ],
   "source": [
    "best_model_mse_2.summary()"
   ]
  },
  {
   "cell_type": "code",
   "execution_count": 40,
   "id": "51428991",
   "metadata": {},
   "outputs": [
    {
     "name": "stdout",
     "output_type": "stream",
     "text": [
      "366/366 [==============================] - 11s 27ms/step\n"
     ]
    }
   ],
   "source": [
    "# Reduce the original series\n",
    "forecast_series_LSTM = x_cv_reshaped\n",
    "\n",
    "# Use helper function to generate predictions\n",
    "forecast_LSTM = model_forecast(best_model_mse_2, forecast_series_LSTM, window_size, batch_size)\n",
    "\n",
    "# Drop single dimensional axis\n",
    "results_2_LSTM_mse = forecast_LSTM.squeeze()"
   ]
  },
  {
   "cell_type": "code",
   "execution_count": 41,
   "id": "4a9e6529",
   "metadata": {},
   "outputs": [
    {
     "name": "stdout",
     "output_type": "stream",
     "text": [
      "MSE in original scale: 53.687507709959114\n",
      "MAE in original scale: 5.066923251284806\n"
     ]
    }
   ],
   "source": [
    "mse = tf.keras.metrics.mean_squared_error(results_2_LSTM_mse, x_cv_reshaped[19:].squeeze()).numpy()\n",
    "mae = tf.keras.metrics.mean_absolute_error(results_2_LSTM_mse, x_cv_reshaped[19:].squeeze()).numpy()\n",
    "\n",
    "print(\"MSE in original scale:\", mse)\n",
    "print(\"MAE in original scale:\", mae)"
   ]
  },
  {
   "cell_type": "code",
   "execution_count": 79,
   "id": "b2cd0041",
   "metadata": {},
   "outputs": [
    {
     "name": "stderr",
     "output_type": "stream",
     "text": [
      "WARNING:absl:At this time, the v2.11+ optimizer `tf.keras.optimizers.Adam` runs slowly on M1/M2 Macs, please use the legacy Keras optimizer instead, located at `tf.keras.optimizers.legacy.Adam`.\n"
     ]
    },
    {
     "name": "stdout",
     "output_type": "stream",
     "text": [
      "Model: \"verification_model\"\n",
      "_________________________________________________________________\n",
      " Layer (type)                Output Shape              Param #   \n",
      "=================================================================\n",
      " lambda_21 (Lambda)          (None, 20, 1)             0         \n",
      "                                                                 \n",
      " bidirectional_22 (Bidirect  (None, 20, 128)           33792     \n",
      " ional)                                                          \n",
      "                                                                 \n",
      " bidirectional_23 (Bidirect  (None, 448)               632576    \n",
      " ional)                                                          \n",
      "                                                                 \n",
      " dropout_11 (Dropout)        (None, 448)               0         \n",
      "                                                                 \n",
      " dense_11 (Dense)            (None, 1)                 449       \n",
      "                                                                 \n",
      " lambda_22 (Lambda)          (None, 1)                 0         \n",
      "                                                                 \n",
      "=================================================================\n",
      "Total params: 666817 (2.54 MB)\n",
      "Trainable params: 666817 (2.54 MB)\n",
      "Non-trainable params: 0 (0.00 Byte)\n",
      "_________________________________________________________________\n"
     ]
    }
   ],
   "source": [
    "# Verifying if training the built model to the best epoch gives the same result so that the heavy files can \n",
    "# be deleted and this notebook pushed to GitHub\n",
    "\n",
    "import tensorflow as tf\n",
    "from tensorflow.keras.models import Sequential\n",
    "from tensorflow.keras.layers import Bidirectional, LSTM, Dropout, Dense, Lambda\n",
    "\n",
    "# Create the model\n",
    "verification_model_2layer_mse = Sequential(name=\"verification_model\")\n",
    "verification_model_2layer_mse.add(Lambda(lambda x: tf.expand_dims(x, axis=-1),input_shape=[window_size]))\n",
    "verification_model_2layer_mse.add(Bidirectional(LSTM(64, return_sequences=True)))\n",
    "verification_model_2layer_mse.add(Bidirectional(LSTM(224)))\n",
    "verification_model_2layer_mse.add(Dropout(0.2))\n",
    "verification_model_2layer_mse.add(Dense(1 , activation = 'relu'))\n",
    "verification_model_2layer_mse.add(Lambda(lambda x: x * 100.0))  \n",
    "optimizer = Adam(learning_rate= 0.0007635327985664222)\n",
    "# Compile the model\n",
    "verification_model_2layer_mse.compile(optimizer='adam', loss='mean_absolute_error')\n",
    "\n",
    "# Print the model summary\n",
    "verification_model_2layer_mse.summary()\n"
   ]
  },
  {
   "cell_type": "code",
   "execution_count": 80,
   "id": "8f90b2b7",
   "metadata": {},
   "outputs": [
    {
     "name": "stdout",
     "output_type": "stream",
     "text": [
      "729/729 [==============================] - 50s 63ms/step - loss: 5.4650\n"
     ]
    },
    {
     "data": {
      "text/plain": [
       "<keras.src.callbacks.History at 0x2c4cde510>"
      ]
     },
     "execution_count": 80,
     "metadata": {},
     "output_type": "execute_result"
    }
   ],
   "source": [
    "verification_model_2layer_mse.fit(x=dataset , epochs = 1)"
   ]
  },
  {
   "cell_type": "code",
   "execution_count": 81,
   "id": "6a33ea71",
   "metadata": {},
   "outputs": [
    {
     "name": "stdout",
     "output_type": "stream",
     "text": [
      "366/366 [==============================] - 9s 22ms/step\n"
     ]
    }
   ],
   "source": [
    "# Reduce the original series\n",
    "forecast_series_LSTM = x_cv_reshaped\n",
    "\n",
    "# Use helper function to generate predictions\n",
    "forecast_LSTM = model_forecast(verification_model_2layer_mse, forecast_series_LSTM, window_size, batch_size)\n",
    "\n",
    "# Drop single dimensional axis\n",
    "verification_results_LSTM_mse_2layer = forecast_LSTM.squeeze()"
   ]
  },
  {
   "cell_type": "code",
   "execution_count": 82,
   "id": "07b3166f",
   "metadata": {},
   "outputs": [
    {
     "name": "stdout",
     "output_type": "stream",
     "text": [
      "MSE in original scale: 175.19055630866296\n",
      "MAPE in original scale: 6646746389.03532\n",
      "MAE in original scale: 6.64674638903532\n"
     ]
    }
   ],
   "source": [
    "mse = tf.keras.metrics.mean_squared_error(verification_results_LSTM_mse_2layer, x_cv_reshaped[19:].squeeze()).numpy()\n",
    "mape = tf.keras.metrics.mean_absolute_percentage_error(verification_results_LSTM_mse_2layer, x_cv_reshaped[19:].squeeze()).numpy()\n",
    "mae = tf.keras.metrics.mean_absolute_error(verification_results_LSTM_mse_2layer, x_cv_reshaped[19:].squeeze()).numpy()\n",
    "\n",
    "print(\"MSE in original scale:\", mse)\n",
    "print(\"MAPE in original scale:\", mape)\n",
    "print(\"MAE in original scale:\", mae)"
   ]
  },
  {
   "cell_type": "code",
   "execution_count": 83,
   "id": "ef58afa9",
   "metadata": {},
   "outputs": [],
   "source": [
    "def plot_series_2(time, series, format=\"-\", start=0, end=None):\n",
    "    \"\"\"\n",
    "    Visualizes time series data\n",
    "\n",
    "    Args:\n",
    "      time (array of int) - contains the time steps\n",
    "      series (array of int) - contains the measurements for each time step\n",
    "      format - line style when plotting the graph\n",
    "      start - first time step to plot\n",
    "      end - last time step to plot\n",
    "    \"\"\"\n",
    "\n",
    "    # Setup dimensions of the graph figure\n",
    "    plt.figure(figsize=(10, 6))\n",
    "    \n",
    "    if type(series) is tuple:\n",
    "\n",
    "        for series_num in series:\n",
    "        # Plot the time series data\n",
    "            plt.plot(time[start:end], series_num[start:end], format)\n",
    "\n",
    "    else:\n",
    "      # Plot the time series data\n",
    "      plt.plot(time[start:end], series[start:end], format)\n",
    "\n",
    "    # Label the x-axis\n",
    "    plt.xlabel(\"Time\")\n",
    "\n",
    "    # Label the y-axis\n",
    "    plt.ylabel(\"Value\")\n",
    "\n",
    "    # Overlay a grid on the graph\n",
    "    plt.grid(True)\n",
    "\n",
    "    # Draw the graph on screen\n",
    "    plt.show()"
   ]
  },
  {
   "cell_type": "code",
   "execution_count": 84,
   "id": "f452fdf7",
   "metadata": {},
   "outputs": [
    {
     "data": {
      "image/png": "[encoded data removed]",
      "text/plain": [
       "<Figure size 1000x600 with 1 Axes>"
      ]
     },
     "metadata": {},
     "output_type": "display_data"
    }
   ],
   "source": [
    "plot_series_2(time_cv[19:109], (x_cv[19:109], verification_results_LSTM_mse_2layer[:90]))"
   ]
  },
  {
   "cell_type": "code",
   "execution_count": null,
   "id": "f06cd6fc",
   "metadata": {},
   "outputs": [],
   "source": [
    "def build_model_2layer(hp):\n",
    "    model = Sequential()\n",
    "    model.add(Lambda(lambda x: tf.expand_dims(x, axis=-1),input_shape=[window_size]))\n",
    "    model.add(Bidirectional(LSTM(hp.Int('LSTM_1',min_value=32,max_value=320,step=32),return_sequences = True)))\n",
    "    model.add(Bidirectional(LSTM(hp.Int('LSTM_2',min_value=32,max_value=320,step=32))))\n",
    "    model.add(Dropout(hp.Float('Dropout_rate',min_value=0.1,max_value=0.5,step=0.1)))\n",
    "    model.add(Dense(1, activation=hp.Choice('dense_activation',values=['relu', 'sigmoid'],default='relu')))\n",
    "    model.add(Lambda(lambda x: x * 100.0))\n",
    "    # Create an instance of the Adam optimizer with a variable learning rate\n",
    "    optimizer = Adam(learning_rate=hp.Float('learning_rate', min_value=1e-5, max_value=1e-3, sampling='log'))\n",
    "    model.compile(loss='Huber', optimizer= optimizer ,metrics = ['mse' , 'mae'])\n",
    "    return model\n",
    "\n",
    "# Early stopping callback\n",
    "early_stopping = EarlyStopping(monitor='val_loss', patience=3, restore_best_weights=True)    "
   ]
  },
  {
   "cell_type": "code",
   "execution_count": 42,
   "id": "e678fc91",
   "metadata": {},
   "outputs": [
    {
     "name": "stderr",
     "output_type": "stream",
     "text": [
      "WARNING:absl:At this time, the v2.11+ optimizer `tf.keras.optimizers.Adam` runs slowly on M1/M2 Macs, please use the legacy Keras optimizer instead, located at `tf.keras.optimizers.legacy.Adam`.\n"
     ]
    }
   ],
   "source": [
    "tuner= RandomSearch(\n",
    "        build_model_2layer,\n",
    "        objective='val_mse',\n",
    "        max_trials=25,\n",
    "        executions_per_trial=1,\n",
    "        directory='tuning_directory_huber_2layer',  # Specify a directory for storing tuning results\n",
    "        project_name='my_lstm_tuning_2layer_huber',\n",
    "        overwrite = True\n",
    "    \n",
    "        )"
   ]
  },
  {
   "cell_type": "code",
   "execution_count": 43,
   "id": "5d0149f6",
   "metadata": {},
   "outputs": [
    {
     "name": "stdout",
     "output_type": "stream",
     "text": [
      "Trial 25 Complete [00h 39m 04s]\n",
      "val_mse: 86.754150390625\n",
      "\n",
      "Best val_mse So Far: 86.754150390625\n",
      "Total elapsed time: 06h 33m 14s\n"
     ]
    }
   ],
   "source": [
    "tuner.search(\n",
    "        x=dataset,\n",
    "        epochs=20,\n",
    "        validation_data=validation_dataset,\n",
    "        callbacks = [early_stopping]\n",
    ")"
   ]
  },
  {
   "cell_type": "code",
   "execution_count": 44,
   "id": "7db4f497",
   "metadata": {},
   "outputs": [
    {
     "data": {
      "text/plain": [
       "{'LSTM_1': 320,\n",
       " 'LSTM_3': 320,\n",
       " 'Dropout_rate': 0.2,\n",
       " 'dense_activation': 'sigmoid',\n",
       " 'learning_rate': 0.0007573740073903525}"
      ]
     },
     "execution_count": 44,
     "metadata": {},
     "output_type": "execute_result"
    }
   ],
   "source": [
    "tuner.oracle.get_best_trials(1)[0].hyperparameters.values"
   ]
  },
  {
   "cell_type": "code",
   "execution_count": 45,
   "id": "04ca6eb8",
   "metadata": {},
   "outputs": [
    {
     "data": {
      "text/plain": [
       "'24'"
      ]
     },
     "execution_count": 45,
     "metadata": {},
     "output_type": "execute_result"
    }
   ],
   "source": [
    "tuner.oracle.get_best_trials(1)[0].trial_id"
   ]
  },
  {
   "cell_type": "code",
   "execution_count": 46,
   "id": "997cc171",
   "metadata": {
    "scrolled": true
   },
   "outputs": [
    {
     "name": "stdout",
     "output_type": "stream",
     "text": [
      "Results summary\n",
      "Results in tuning_directory_huber_2layer/my_lstm_tuning_2layer_huber\n",
      "Showing 10 best trials\n",
      "Objective(name=\"val_mse\", direction=\"min\")\n",
      "\n",
      "Trial 24 summary\n",
      "Hyperparameters:\n",
      "LSTM_1: 320\n",
      "LSTM_3: 320\n",
      "Dropout_rate: 0.2\n",
      "dense_activation: sigmoid\n",
      "learning_rate: 0.0007573740073903525\n",
      "Score: 86.754150390625\n",
      "\n",
      "Trial 19 summary\n",
      "Hyperparameters:\n",
      "LSTM_1: 320\n",
      "LSTM_3: 160\n",
      "Dropout_rate: 0.1\n",
      "dense_activation: sigmoid\n",
      "learning_rate: 0.0007441425131576781\n",
      "Score: 87.22559356689453\n",
      "\n",
      "Trial 10 summary\n",
      "Hyperparameters:\n",
      "LSTM_1: 288\n",
      "LSTM_3: 224\n",
      "Dropout_rate: 0.5\n",
      "dense_activation: sigmoid\n",
      "learning_rate: 0.000253197215819266\n",
      "Score: 87.23004913330078\n",
      "\n",
      "Trial 08 summary\n",
      "Hyperparameters:\n",
      "LSTM_1: 224\n",
      "LSTM_3: 288\n",
      "Dropout_rate: 0.1\n",
      "dense_activation: sigmoid\n",
      "learning_rate: 0.00017849165322769413\n",
      "Score: 87.36618041992188\n",
      "\n",
      "Trial 18 summary\n",
      "Hyperparameters:\n",
      "LSTM_1: 192\n",
      "LSTM_3: 256\n",
      "Dropout_rate: 0.2\n",
      "dense_activation: sigmoid\n",
      "learning_rate: 0.000117187953887789\n",
      "Score: 87.37356567382812\n",
      "\n",
      "Trial 23 summary\n",
      "Hyperparameters:\n",
      "LSTM_1: 128\n",
      "LSTM_3: 64\n",
      "Dropout_rate: 0.1\n",
      "dense_activation: sigmoid\n",
      "learning_rate: 0.0009199400734714153\n",
      "Score: 87.7384033203125\n",
      "\n",
      "Trial 22 summary\n",
      "Hyperparameters:\n",
      "LSTM_1: 288\n",
      "LSTM_3: 288\n",
      "Dropout_rate: 0.1\n",
      "dense_activation: sigmoid\n",
      "learning_rate: 4.4024566541799955e-05\n",
      "Score: 87.7748031616211\n",
      "\n",
      "Trial 03 summary\n",
      "Hyperparameters:\n",
      "LSTM_1: 160\n",
      "LSTM_3: 192\n",
      "Dropout_rate: 0.5\n",
      "dense_activation: sigmoid\n",
      "learning_rate: 4.9269455999515605e-05\n",
      "Score: 87.88027954101562\n",
      "\n",
      "Trial 21 summary\n",
      "Hyperparameters:\n",
      "LSTM_1: 288\n",
      "LSTM_3: 128\n",
      "Dropout_rate: 0.2\n",
      "dense_activation: sigmoid\n",
      "learning_rate: 0.00015690407668243894\n",
      "Score: 88.07514190673828\n",
      "\n",
      "Trial 07 summary\n",
      "Hyperparameters:\n",
      "LSTM_1: 32\n",
      "LSTM_3: 256\n",
      "Dropout_rate: 0.2\n",
      "dense_activation: sigmoid\n",
      "learning_rate: 6.347594122109973e-05\n",
      "Score: 88.19164276123047\n"
     ]
    }
   ],
   "source": [
    "tuner.results_summary()"
   ]
  },
  {
   "cell_type": "code",
   "execution_count": 47,
   "id": "c9d0b431",
   "metadata": {},
   "outputs": [
    {
     "name": "stderr",
     "output_type": "stream",
     "text": [
      "WARNING:absl:At this time, the v2.11+ optimizer `tf.keras.optimizers.Adam` runs slowly on M1/M2 Macs, please use the legacy Keras optimizer instead, located at `tf.keras.optimizers.legacy.Adam`.\n"
     ]
    }
   ],
   "source": [
    "best_model_huber_2 = tuner.get_best_models(num_models=1)[0]\n"
   ]
  },
  {
   "cell_type": "code",
   "execution_count": 48,
   "id": "75b6c0b3",
   "metadata": {},
   "outputs": [
    {
     "name": "stdout",
     "output_type": "stream",
     "text": [
      "Model: \"sequential\"\n",
      "_________________________________________________________________\n",
      " Layer (type)                Output Shape              Param #   \n",
      "=================================================================\n",
      " lambda (Lambda)             (None, 20, 1)             0         \n",
      "                                                                 \n",
      " bidirectional (Bidirection  (None, 20, 640)           824320    \n",
      " al)                                                             \n",
      "                                                                 \n",
      " bidirectional_1 (Bidirecti  (None, 640)               2460160   \n",
      " onal)                                                           \n",
      "                                                                 \n",
      " dropout (Dropout)           (None, 640)               0         \n",
      "                                                                 \n",
      " dense (Dense)               (None, 1)                 641       \n",
      "                                                                 \n",
      " lambda_1 (Lambda)           (None, 1)                 0         \n",
      "                                                                 \n",
      "=================================================================\n",
      "Total params: 3285121 (12.53 MB)\n",
      "Trainable params: 3285121 (12.53 MB)\n",
      "Non-trainable params: 0 (0.00 Byte)\n",
      "_________________________________________________________________\n"
     ]
    }
   ],
   "source": [
    "best_model_huber_2.summary()"
   ]
  },
  {
   "cell_type": "code",
   "execution_count": 49,
   "id": "d5a3289c",
   "metadata": {},
   "outputs": [
    {
     "name": "stdout",
     "output_type": "stream",
     "text": [
      "366/366 [==============================] - 27s 71ms/step\n"
     ]
    }
   ],
   "source": [
    "split_time = 23328\n",
    "\n",
    "# Reduce the original series\n",
    "forecast_series_LSTM = x_cv_reshaped\n",
    "\n",
    "# Use helper function to generate predictions\n",
    "forecast_LSTM = model_forecast(best_model_huber_2, forecast_series_LSTM, window_size, batch_size)\n",
    "\n",
    "# Drop single dimensional axis\n",
    "results_2_LSTM_huber = forecast_LSTM.squeeze()"
   ]
  },
  {
   "cell_type": "code",
   "execution_count": 50,
   "id": "cf5af079",
   "metadata": {},
   "outputs": [
    {
     "name": "stdout",
     "output_type": "stream",
     "text": [
      "MSE in original scale: 57.01393987635329\n",
      "MAE in original scale: 5.1538034033654405\n"
     ]
    }
   ],
   "source": [
    "mse = tf.keras.metrics.mean_squared_error(results_2_LSTM_huber, x_cv_reshaped[19:].squeeze()).numpy()\n",
    "mae = tf.keras.metrics.mean_absolute_error(results_2_LSTM_huber, x_cv_reshaped[19:].squeeze()).numpy()\n",
    "\n",
    "print(\"MSE in original scale:\", mse)\n",
    "print(\"MAE in original scale:\", mae)\n"
   ]
  },
  {
   "cell_type": "code",
   "execution_count": 54,
   "id": "82d40fec",
   "metadata": {},
   "outputs": [
    {
     "name": "stderr",
     "output_type": "stream",
     "text": [
      "WARNING:absl:At this time, the v2.11+ optimizer `tf.keras.optimizers.Adam` runs slowly on M1/M2 Macs, please use the legacy Keras optimizer instead, located at `tf.keras.optimizers.legacy.Adam`.\n"
     ]
    },
    {
     "name": "stdout",
     "output_type": "stream",
     "text": [
      "Model: \"verification_model\"\n",
      "_________________________________________________________________\n",
      " Layer (type)                Output Shape              Param #   \n",
      "=================================================================\n",
      " lambda_6 (Lambda)           (None, 20, 1)             0         \n",
      "                                                                 \n",
      " bidirectional_8 (Bidirecti  (None, 20, 192)           75264     \n",
      " onal)                                                           \n",
      "                                                                 \n",
      " bidirectional_9 (Bidirecti  (None, 576)               1108224   \n",
      " onal)                                                           \n",
      "                                                                 \n",
      " dropout_4 (Dropout)         (None, 576)               0         \n",
      "                                                                 \n",
      " dense_4 (Dense)             (None, 1)                 577       \n",
      "                                                                 \n",
      " lambda_7 (Lambda)           (None, 1)                 0         \n",
      "                                                                 \n",
      "=================================================================\n",
      "Total params: 1184065 (4.52 MB)\n",
      "Trainable params: 1184065 (4.52 MB)\n",
      "Non-trainable params: 0 (0.00 Byte)\n",
      "_________________________________________________________________\n"
     ]
    }
   ],
   "source": [
    "# Verifying if training the built model to the best epoch gives the same result so that the heavy files can \n",
    "# be deleted and this notebook pushed to GitHub\n",
    "\n",
    "import tensorflow as tf\n",
    "from tensorflow.keras.models import Sequential\n",
    "from tensorflow.keras.layers import Bidirectional, LSTM, Dropout, Dense, Lambda\n",
    "\n",
    "# Create the model\n",
    "verification_model_2layer_huber = Sequential(name=\"verification_model\")\n",
    "verification_model_2layer_huber.add(Lambda(lambda x: tf.expand_dims(x, axis=-1),input_shape=[window_size]))\n",
    "verification_model_2layer_huber.add(Bidirectional(LSTM(96, return_sequences=True)))\n",
    "verification_model_2layer_huber.add(Bidirectional(LSTM(288)))\n",
    "verification_model_2layer_huber.add(Dropout(0.5))\n",
    "verification_model_2layer_huber.add(Dense(1, activation = 'sigmoid'))\n",
    "verification_model_2layer_huber.add(Lambda(lambda x: x * 100.0))  # Assuming you want to reduce to (None, 1)\n",
    "optimizer = Adam(learning_rate= 0.0003686469542052108)\n",
    "# Compile the model\n",
    "verification_model_2layer_huber.compile(optimizer='adam', loss='huber')\n",
    "\n",
    "# Print the model summary\n",
    "verification_model_2layer_huber.summary()\n"
   ]
  },
  {
   "cell_type": "code",
   "execution_count": 65,
   "id": "a71ee333",
   "metadata": {},
   "outputs": [
    {
     "name": "stdout",
     "output_type": "stream",
     "text": [
      "Epoch 1/19\n",
      "729/729 [==============================] - 61s 83ms/step - loss: 5.3075\n",
      "Epoch 2/19\n",
      "729/729 [==============================] - 62s 85ms/step - loss: 5.3075\n",
      "Epoch 3/19\n",
      "729/729 [==============================] - 64s 87ms/step - loss: 5.3075\n",
      "Epoch 4/19\n",
      "729/729 [==============================] - 62s 85ms/step - loss: 5.3075\n",
      "Epoch 5/19\n",
      "729/729 [==============================] - 63s 87ms/step - loss: 5.3075\n",
      "Epoch 6/19\n",
      "729/729 [==============================] - 63s 87ms/step - loss: 5.3075\n",
      "Epoch 7/19\n",
      "729/729 [==============================] - 63s 86ms/step - loss: 5.3075\n",
      "Epoch 8/19\n",
      "729/729 [==============================] - 64s 87ms/step - loss: 5.3075\n",
      "Epoch 9/19\n",
      "729/729 [==============================] - 64s 87ms/step - loss: 5.3075\n",
      "Epoch 10/19\n",
      "729/729 [==============================] - 64s 87ms/step - loss: 5.3075\n",
      "Epoch 11/19\n",
      "729/729 [==============================] - 63s 86ms/step - loss: 5.3075\n",
      "Epoch 12/19\n",
      "729/729 [==============================] - 62s 86ms/step - loss: 5.3075\n",
      "Epoch 13/19\n",
      "729/729 [==============================] - 65s 89ms/step - loss: 5.3075\n",
      "Epoch 14/19\n",
      "729/729 [==============================] - 63s 86ms/step - loss: 5.3075\n",
      "Epoch 15/19\n",
      "729/729 [==============================] - 66s 91ms/step - loss: 5.3075\n",
      "Epoch 16/19\n",
      "729/729 [==============================] - 64s 88ms/step - loss: 5.3075\n",
      "Epoch 17/19\n",
      "729/729 [==============================] - 64s 87ms/step - loss: 5.3075\n",
      "Epoch 18/19\n",
      "729/729 [==============================] - 63s 86ms/step - loss: 5.3075\n",
      "Epoch 19/19\n",
      "729/729 [==============================] - 64s 88ms/step - loss: 5.3075\n"
     ]
    },
    {
     "data": {
      "text/plain": [
       "<keras.src.callbacks.History at 0x298276d50>"
      ]
     },
     "execution_count": 65,
     "metadata": {},
     "output_type": "execute_result"
    }
   ],
   "source": [
    "verification_model_2layer_huber.fit(x=dataset , epochs = 19)"
   ]
  },
  {
   "cell_type": "code",
   "execution_count": 66,
   "id": "b047c088",
   "metadata": {},
   "outputs": [
    {
     "name": "stdout",
     "output_type": "stream",
     "text": [
      "366/366 [==============================] - 10s 27ms/step\n"
     ]
    }
   ],
   "source": [
    "# Reduce the original series\n",
    "forecast_series_LSTM = x_cv_reshaped\n",
    "\n",
    "# Use helper function to generate predictions\n",
    "forecast_LSTM = model_forecast(verification_model_2layer_huber, forecast_series_LSTM, window_size, batch_size)\n",
    "\n",
    "# Drop single dimensional axis\n",
    "verification_results_LSTM_huber_2layer = forecast_LSTM.squeeze()"
   ]
  },
  {
   "cell_type": "code",
   "execution_count": 67,
   "id": "aae76fdd",
   "metadata": {},
   "outputs": [
    {
     "name": "stdout",
     "output_type": "stream",
     "text": [
      "MSE in original scale: 175.19055630852492\n",
      "MAE in original scale: 6.646746389033877\n"
     ]
    }
   ],
   "source": [
    "mse = tf.keras.metrics.mean_squared_error(verification_results_LSTM_huber_2layer, x_cv_reshaped[19:].squeeze()).numpy()\n",
    "mae = tf.keras.metrics.mean_absolute_error(verification_results_LSTM_huber_2layer, x_cv_reshaped[19:].squeeze()).numpy()\n",
    "\n",
    "print(\"MSE in original scale:\", mse)\n",
    "print(\"MAE in original scale:\", mae)"
   ]
  },
  {
   "cell_type": "code",
   "execution_count": null,
   "id": "9643e85a",
   "metadata": {},
   "outputs": [],
   "source": []
  }
 ],
 "metadata": {
  "kernelspec": {
   "display_name": "forecasting_env",
   "language": "python",
   "name": "forecasting_env"
  },
  "language_info": {
   "codemirror_mode": {
    "name": "ipython",
    "version": 3
   },
   "file_extension": ".py",
   "mimetype": "text/x-python",
   "name": "python",
   "nbconvert_exporter": "python",
   "pygments_lexer": "ipython3",
   "version": "3.11.5"
  }
 },
 "nbformat": 4,
 "nbformat_minor": 5
}
